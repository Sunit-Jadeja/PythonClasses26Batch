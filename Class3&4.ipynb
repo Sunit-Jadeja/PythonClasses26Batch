{
 "cells": [
  {
   "cell_type": "markdown",
   "id": "56032d49",
   "metadata": {},
   "source": [
    "# While Loop"
   ]
  },
  {
   "cell_type": "code",
   "execution_count": 4,
   "id": "b836c027",
   "metadata": {},
   "outputs": [
    {
     "name": "stdout",
     "output_type": "stream",
     "text": [
      "0\n",
      "1\n",
      "2\n",
      "3\n",
      "4\n",
      "5\n",
      "out of while loop\n"
     ]
    }
   ],
   "source": [
    "i=0 ###\n",
    "while i<=5:\n",
    "    print(i)\n",
    "    i=i+1\n",
    "else:\n",
    "    print(\"out of while loop\")"
   ]
  },
  {
   "cell_type": "code",
   "execution_count": 8,
   "id": "203a9144",
   "metadata": {},
   "outputs": [
    {
     "name": "stdout",
     "output_type": "stream",
     "text": [
      "i b 0 5\n",
      "i b 1 5\n",
      "i b 2 5\n",
      "i b 3 5\n",
      "i b 4 5\n",
      "i b 5 5\n",
      "Out while loop as a is greater than b\n"
     ]
    }
   ],
   "source": [
    "i=0\n",
    "b=5\n",
    "while i<=b:\n",
    "    print(\"i\",\"b\",i,b)\n",
    "    i=i+1\n",
    "else:\n",
    "    print(\"Out while loop as a is greater than b\")\n"
   ]
  },
  {
   "cell_type": "code",
   "execution_count": 9,
   "id": "39deb666",
   "metadata": {},
   "outputs": [
    {
     "name": "stdout",
     "output_type": "stream",
     "text": [
      "excellent\n"
     ]
    }
   ],
   "source": [
    "marks=90\n",
    "if marks>=90:\n",
    "\n",
    "    print('excellent')\n",
    "elif marks>=50 and marks < 90:\n",
    "    print('Average')\n",
    "else:\n",
    "    print('poor')"
   ]
  },
  {
   "cell_type": "markdown",
   "id": "e583c940",
   "metadata": {},
   "source": [
    "# For Loop"
   ]
  },
  {
   "cell_type": "code",
   "execution_count": 13,
   "id": "41a11079",
   "metadata": {},
   "outputs": [
    {
     "name": "stdout",
     "output_type": "stream",
     "text": [
      "1 4\n",
      "2 8\n",
      "3 12\n",
      "4 16\n",
      "5 20\n",
      "6 24\n",
      "7 28\n",
      "8 32\n",
      "9 36\n",
      "10 40\n"
     ]
    }
   ],
   "source": [
    "lst=[1,2,3,4,5,6,7,8,9,10]\n",
    "for i in lst:\n",
    "    a=i*4\n",
    "    print(i,a)"
   ]
  },
  {
   "cell_type": "code",
   "execution_count": 37,
   "id": "63a8d185",
   "metadata": {},
   "outputs": [
    {
     "data": {
      "text/plain": [
       "[4, 8, 12]"
      ]
     },
     "execution_count": 37,
     "metadata": {},
     "output_type": "execute_result"
    }
   ],
   "source": [
    "lst=[1,2,3,4,5,6,7,8,9,10]\n",
    "[i*4 for i in lst if i <4]"
   ]
  },
  {
   "cell_type": "code",
   "execution_count": 14,
   "id": "6af385ac",
   "metadata": {},
   "outputs": [],
   "source": [
    "import numpy as np"
   ]
  },
  {
   "cell_type": "code",
   "execution_count": 16,
   "id": "57dcf764",
   "metadata": {},
   "outputs": [
    {
     "data": {
      "text/plain": [
       "32"
      ]
     },
     "execution_count": 16,
     "metadata": {},
     "output_type": "execute_result"
    }
   ],
   "source": [
    "np.random.randint(0,37)"
   ]
  },
  {
   "cell_type": "code",
   "execution_count": 20,
   "id": "75dd50f1",
   "metadata": {
    "scrolled": true
   },
   "outputs": [
    {
     "name": "stdout",
     "output_type": "stream",
     "text": [
      "1 6\n",
      "1 7\n",
      "1 8\n",
      "1 9\n",
      "1 10\n",
      "2 6\n",
      "2 7\n",
      "2 8\n",
      "2 9\n",
      "2 10\n",
      "3 6\n",
      "3 7\n",
      "3 8\n",
      "3 9\n",
      "3 10\n",
      "4 6\n",
      "4 7\n",
      "4 8\n",
      "4 9\n",
      "4 10\n",
      "5 6\n",
      "5 7\n",
      "5 8\n",
      "5 9\n",
      "5 10\n"
     ]
    }
   ],
   "source": [
    "lst=[1,2,3,4,5]\n",
    "lst_1=[6,7,8,9,10]\n",
    "for i in lst:\n",
    "\n",
    "    for j in lst_1:\n",
    "        print(i,j)"
   ]
  },
  {
   "cell_type": "code",
   "execution_count": 21,
   "id": "b7ffd369",
   "metadata": {},
   "outputs": [
    {
     "name": "stdout",
     "output_type": "stream",
     "text": [
      "in else statement shirt \n",
      "in else statement pants \n",
      "in else statement socks \n",
      "in else statement towel \n",
      "['sock']\n"
     ]
    }
   ],
   "source": [
    "clothes = [\"shirt\", \"sock\", \"pants\", \"socks\", \"towel\"]\n",
    "paired_socks = []\n",
    "for item in clothes:\n",
    "    if item == \"sock\":\n",
    "        a=item\n",
    "        continue\n",
    "        \n",
    "    else:\n",
    "        print(f\"in else statement {item} \")\n",
    "paired_socks.append(a)\n",
    "print(paired_socks)\n"
   ]
  },
  {
   "cell_type": "code",
   "execution_count": 25,
   "id": "40ceb2d8",
   "metadata": {},
   "outputs": [
    {
     "data": {
      "text/plain": [
       "[0, 1, 2, 3, 4, 5, 6, 7, 8, 9, 10, 11, 12, 13, 14, 15, 16, 17, 18, 19]"
      ]
     },
     "execution_count": 25,
     "metadata": {},
     "output_type": "execute_result"
    }
   ],
   "source": [
    "list(range(0,20))"
   ]
  },
  {
   "cell_type": "code",
   "execution_count": 26,
   "id": "0bf35f66",
   "metadata": {},
   "outputs": [
    {
     "data": {
      "text/plain": [
       "[0, 2, 4, 6, 8, 10, 12, 14, 16, 18]"
      ]
     },
     "execution_count": 26,
     "metadata": {},
     "output_type": "execute_result"
    }
   ],
   "source": [
    "list(range(0,20,2))"
   ]
  },
  {
   "cell_type": "code",
   "execution_count": 27,
   "id": "19f3647a",
   "metadata": {},
   "outputs": [
    {
     "name": "stdout",
     "output_type": "stream",
     "text": [
      "101\n",
      "103\n",
      "105\n",
      "107\n"
     ]
    }
   ],
   "source": [
    "l=[100,101,102,103]\n",
    "l1=[1,2,3,4]\n",
    "z=zip(l,l1)\n",
    "for (x,y) in z:\n",
    "    s=x+y\n",
    "    print(s)\n"
   ]
  },
  {
   "cell_type": "code",
   "execution_count": 28,
   "id": "1e519f27",
   "metadata": {},
   "outputs": [
    {
     "name": "stdout",
     "output_type": "stream",
     "text": [
      "(0, 'eat')\n",
      "(1, 'sleep')\n",
      "(2, 'repeat')\n"
     ]
    }
   ],
   "source": [
    "l1 = [\"eat\", \"sleep\", \"repeat\"]\n",
    "for ele in enumerate(l1):\n",
    "    print (ele)\n"
   ]
  },
  {
   "cell_type": "markdown",
   "id": "de854bac",
   "metadata": {},
   "source": [
    "# List Comprehension"
   ]
  },
  {
   "cell_type": "code",
   "execution_count": 38,
   "id": "33dacf64",
   "metadata": {},
   "outputs": [
    {
     "data": {
      "text/plain": [
       "[4, 8, 12, 16, 20, 24, 28, 32, 36, 40]"
      ]
     },
     "execution_count": 38,
     "metadata": {},
     "output_type": "execute_result"
    }
   ],
   "source": [
    "lst=[1,2,3,4,5,6,7,8,9,10]\n",
    "[i*4 for i in lst]"
   ]
  },
  {
   "cell_type": "code",
   "execution_count": 39,
   "id": "0c119e0f",
   "metadata": {},
   "outputs": [
    {
     "data": {
      "text/plain": [
       "[4, 8, 12]"
      ]
     },
     "execution_count": 39,
     "metadata": {},
     "output_type": "execute_result"
    }
   ],
   "source": [
    "lst=[1,2,3,4,5,6,7,8,9,10]\n",
    "[i*4 for i in lst if i <4]"
   ]
  },
  {
   "cell_type": "code",
   "execution_count": 43,
   "id": "3531d5e0",
   "metadata": {},
   "outputs": [],
   "source": [
    "lst2=range(0,10)"
   ]
  },
  {
   "cell_type": "code",
   "execution_count": 44,
   "id": "b2d2b028",
   "metadata": {},
   "outputs": [
    {
     "data": {
      "text/plain": [
       "[0, 4, 8, 12, 16, 20, 24, 28, 32, 36]"
      ]
     },
     "execution_count": 44,
     "metadata": {},
     "output_type": "execute_result"
    }
   ],
   "source": [
    "[i*4 for i in lst2]"
   ]
  },
  {
   "cell_type": "code",
   "execution_count": 48,
   "id": "739ab6ef",
   "metadata": {},
   "outputs": [
    {
     "data": {
      "text/plain": [
       "[0, 10, 20, 30, 40]"
      ]
     },
     "execution_count": 48,
     "metadata": {},
     "output_type": "execute_result"
    }
   ],
   "source": [
    "[i*5 for i in range(0,10,2)]"
   ]
  },
  {
   "cell_type": "markdown",
   "id": "16859395",
   "metadata": {},
   "source": [
    "# Functions"
   ]
  },
  {
   "cell_type": "code",
   "execution_count": 53,
   "id": "0f02ff47",
   "metadata": {},
   "outputs": [],
   "source": [
    "def Greet (name):\n",
    "    name=(\"Hello\", name)\n",
    "    \n",
    "    return name\n"
   ]
  },
  {
   "cell_type": "code",
   "execution_count": 54,
   "id": "af6bd62c",
   "metadata": {},
   "outputs": [
    {
     "data": {
      "text/plain": [
       "('Hello', 'Sunit')"
      ]
     },
     "execution_count": 54,
     "metadata": {},
     "output_type": "execute_result"
    }
   ],
   "source": [
    "Greet(\"Sunit\")"
   ]
  },
  {
   "cell_type": "code",
   "execution_count": 55,
   "id": "d6f68ac3",
   "metadata": {},
   "outputs": [
    {
     "name": "stdout",
     "output_type": "stream",
     "text": [
      "500\n"
     ]
    }
   ],
   "source": [
    "x=100\n",
    "def multi(y):\n",
    "    z=x*y\n",
    "    print(z)\n",
    "\n",
    "    \n",
    "multi(5)\n"
   ]
  },
  {
   "cell_type": "code",
   "execution_count": 57,
   "id": "5df82a94",
   "metadata": {},
   "outputs": [],
   "source": [
    "def accuracy(a,b,c,d):\n",
    "    \n",
    "    x=a+b+c+d\n",
    "    y=d-c-b-a\n",
    "    return x,y"
   ]
  },
  {
   "cell_type": "code",
   "execution_count": 58,
   "id": "af4de6c3",
   "metadata": {},
   "outputs": [
    {
     "data": {
      "text/plain": [
       "(10, -2)"
      ]
     },
     "execution_count": 58,
     "metadata": {},
     "output_type": "execute_result"
    }
   ],
   "source": [
    "accuracy(1,2,3,4)"
   ]
  },
  {
   "cell_type": "code",
   "execution_count": 60,
   "id": "9b45fd59",
   "metadata": {},
   "outputs": [
    {
     "data": {
      "text/plain": [
       "4"
      ]
     },
     "execution_count": 60,
     "metadata": {},
     "output_type": "execute_result"
    }
   ],
   "source": [
    "y"
   ]
  },
  {
   "cell_type": "code",
   "execution_count": 61,
   "id": "0c496950",
   "metadata": {},
   "outputs": [],
   "source": [
    "lst=[10,20,30,40,50]\n",
    "one_d_array=np.array(lst)"
   ]
  },
  {
   "cell_type": "code",
   "execution_count": 62,
   "id": "8e01bbc2",
   "metadata": {},
   "outputs": [
    {
     "name": "stdout",
     "output_type": "stream",
     "text": [
      "[10 20 30 40 50]\n"
     ]
    }
   ],
   "source": [
    "print(one_d_array)"
   ]
  },
  {
   "cell_type": "code",
   "execution_count": 63,
   "id": "dfba569e",
   "metadata": {},
   "outputs": [
    {
     "data": {
      "text/plain": [
       "numpy.ndarray"
      ]
     },
     "execution_count": 63,
     "metadata": {},
     "output_type": "execute_result"
    }
   ],
   "source": [
    "type(one_d_array)"
   ]
  },
  {
   "cell_type": "code",
   "execution_count": 64,
   "id": "b6b492c1",
   "metadata": {},
   "outputs": [
    {
     "data": {
      "text/plain": [
       "list"
      ]
     },
     "execution_count": 64,
     "metadata": {},
     "output_type": "execute_result"
    }
   ],
   "source": [
    "type(lst)"
   ]
  },
  {
   "cell_type": "code",
   "execution_count": 65,
   "id": "4240ad17",
   "metadata": {},
   "outputs": [
    {
     "data": {
      "text/plain": [
       "array([1., 1., 1., 1., 1., 1., 1., 1., 1., 1.])"
      ]
     },
     "execution_count": 65,
     "metadata": {},
     "output_type": "execute_result"
    }
   ],
   "source": [
    "np.ones(10)"
   ]
  },
  {
   "cell_type": "code",
   "execution_count": 81,
   "id": "8e1c03f6",
   "metadata": {},
   "outputs": [
    {
     "data": {
      "text/plain": [
       "array([[1, 1, 1],\n",
       "       [1, 1, 1],\n",
       "       [1, 1, 1],\n",
       "       [1, 1, 1]])"
      ]
     },
     "execution_count": 81,
     "metadata": {},
     "output_type": "execute_result"
    }
   ],
   "source": [
    "np.ones((4,3),dtype=\"int\")"
   ]
  },
  {
   "cell_type": "code",
   "execution_count": 97,
   "id": "59470ef2",
   "metadata": {},
   "outputs": [
    {
     "data": {
      "text/plain": [
       "array([[0., 0.],\n",
       "       [0., 0.],\n",
       "       [0., 0.],\n",
       "       [0., 0.],\n",
       "       [0., 0.],\n",
       "       [0., 0.]])"
      ]
     },
     "execution_count": 97,
     "metadata": {},
     "output_type": "execute_result"
    }
   ],
   "source": [
    "np.zeros(12).reshape(6,2)"
   ]
  },
  {
   "cell_type": "code",
   "execution_count": 71,
   "id": "52b397d0",
   "metadata": {},
   "outputs": [
    {
     "data": {
      "text/plain": [
       "array([[[0., 0.],\n",
       "        [0., 0.],\n",
       "        [0., 0.]],\n",
       "\n",
       "       [[0., 0.],\n",
       "        [0., 0.],\n",
       "        [0., 0.]],\n",
       "\n",
       "       [[0., 0.],\n",
       "        [0., 0.],\n",
       "        [0., 0.]]])"
      ]
     },
     "execution_count": 71,
     "metadata": {},
     "output_type": "execute_result"
    }
   ],
   "source": [
    "np.empty((3,3,2))"
   ]
  },
  {
   "cell_type": "code",
   "execution_count": 75,
   "id": "f6647cfd",
   "metadata": {},
   "outputs": [
    {
     "name": "stdout",
     "output_type": "stream",
     "text": [
      "[[10 20 30]\n",
      " [20 30 40]]\n"
     ]
    }
   ],
   "source": [
    "multidimension=np.array([[10,20,30],[20,30,40]])\n",
    "print(multidimension)"
   ]
  },
  {
   "cell_type": "code",
   "execution_count": 73,
   "id": "a9db3615",
   "metadata": {},
   "outputs": [
    {
     "data": {
      "text/plain": [
       "2"
      ]
     },
     "execution_count": 73,
     "metadata": {},
     "output_type": "execute_result"
    }
   ],
   "source": [
    "multidimension.ndim ###dimension"
   ]
  },
  {
   "cell_type": "code",
   "execution_count": 74,
   "id": "80259126",
   "metadata": {},
   "outputs": [
    {
     "data": {
      "text/plain": [
       "(2, 3)"
      ]
     },
     "execution_count": 74,
     "metadata": {},
     "output_type": "execute_result"
    }
   ],
   "source": [
    "multidimension.shape"
   ]
  },
  {
   "cell_type": "code",
   "execution_count": 76,
   "id": "141bf709",
   "metadata": {},
   "outputs": [
    {
     "data": {
      "text/plain": [
       "6"
      ]
     },
     "execution_count": 76,
     "metadata": {},
     "output_type": "execute_result"
    }
   ],
   "source": [
    "multidimension.size"
   ]
  },
  {
   "cell_type": "code",
   "execution_count": 78,
   "id": "c8a49699",
   "metadata": {},
   "outputs": [
    {
     "data": {
      "text/plain": [
       "dtype('int64')"
      ]
     },
     "execution_count": 78,
     "metadata": {},
     "output_type": "execute_result"
    }
   ],
   "source": [
    "multidimension.dtype"
   ]
  },
  {
   "cell_type": "code",
   "execution_count": 79,
   "id": "e7c079e3",
   "metadata": {},
   "outputs": [
    {
     "data": {
      "text/plain": [
       "48"
      ]
     },
     "execution_count": 79,
     "metadata": {},
     "output_type": "execute_result"
    }
   ],
   "source": [
    "multidimension.nbytes"
   ]
  },
  {
   "cell_type": "code",
   "execution_count": 92,
   "id": "9e40986d",
   "metadata": {},
   "outputs": [
    {
     "data": {
      "text/plain": [
       "array([ 111,  121,  131,  141,  151,  161,  171,  181,  191,  201,  211,\n",
       "        221,  231,  241,  251,  261,  271,  281,  291,  301,  311,  321,\n",
       "        331,  341,  351,  361,  371,  381,  391,  401,  411,  421,  431,\n",
       "        441,  451,  461,  471,  481,  491,  501,  511,  521,  531,  541,\n",
       "        551,  561,  571,  581,  591,  601,  611,  621,  631,  641,  651,\n",
       "        661,  671,  681,  691,  701,  711,  721,  731,  741,  751,  761,\n",
       "        771,  781,  791,  801,  811,  821,  831,  841,  851,  861,  871,\n",
       "        881,  891,  901,  911,  921,  931,  941,  951,  961,  971,  981,\n",
       "        991, 1001, 1011, 1021, 1031, 1041, 1051, 1061, 1071, 1081, 1091,\n",
       "       1101, 1111])"
      ]
     },
     "execution_count": 92,
     "metadata": {},
     "output_type": "execute_result"
    }
   ],
   "source": [
    "np.arange(111,1113,10)"
   ]
  },
  {
   "cell_type": "code",
   "execution_count": 93,
   "id": "41f65e55",
   "metadata": {},
   "outputs": [
    {
     "data": {
      "text/plain": [
       "array([  11.        ,  133.44444444,  255.88888889,  378.33333333,\n",
       "        500.77777778,  623.22222222,  745.66666667,  868.11111111,\n",
       "        990.55555556, 1113.        ])"
      ]
     },
     "execution_count": 93,
     "metadata": {},
     "output_type": "execute_result"
    }
   ],
   "source": [
    "np.linspace(11,1113,10)"
   ]
  },
  {
   "cell_type": "code",
   "execution_count": 111,
   "id": "1953280b",
   "metadata": {},
   "outputs": [],
   "source": [
    "rng=np.random.default_rng(42)\n"
   ]
  },
  {
   "cell_type": "code",
   "execution_count": 106,
   "id": "4dcffdf6",
   "metadata": {},
   "outputs": [
    {
     "data": {
      "text/plain": [
       "array([0.08888468, 0.88194347, 0.73228387, 0.73215182, 0.56233394,\n",
       "       0.33966929, 0.062511  , 0.35706816, 0.20250319, 0.4305179 ])"
      ]
     },
     "execution_count": 106,
     "metadata": {},
     "output_type": "execute_result"
    }
   ],
   "source": [
    "rng.random(10) \n"
   ]
  },
  {
   "cell_type": "code",
   "execution_count": 112,
   "id": "eb0bd0ae",
   "metadata": {},
   "outputs": [
    {
     "data": {
      "text/plain": [
       "array([ 8, 77, 65, 43, 43, 85,  8, 69, 20,  9])"
      ]
     },
     "execution_count": 112,
     "metadata": {},
     "output_type": "execute_result"
    }
   ],
   "source": [
    "rng.integers(0, 100,10)\n"
   ]
  },
  {
   "cell_type": "code",
   "execution_count": 107,
   "id": "50ead68d",
   "metadata": {},
   "outputs": [
    {
     "data": {
      "text/plain": [
       "array([17.86374339,  7.26107561,  8.54153216, 13.60574701,  9.20798481,\n",
       "        8.8109699 , 12.48272073])"
      ]
     },
     "execution_count": 107,
     "metadata": {},
     "output_type": "execute_result"
    }
   ],
   "source": [
    "rng.normal(10,5,7)\n"
   ]
  },
  {
   "cell_type": "code",
   "execution_count": 8,
   "id": "7a5148a3",
   "metadata": {},
   "outputs": [],
   "source": [
    "a=np.array([\n",
    "  [1, 2, 3],\n",
    "  [4, 5, 6],\n",
    "  [7, 8, 9],\n",
    "  [10,11,12]\n",
    "   ])\n",
    "\n",
    "b=np.array([3, 4, 8])\n",
    "c=np.array([\n",
    "  [1, 2, 3],\n",
    "  [4, 5, 6],\n",
    "  [7, 8, 9],\n",
    "  [10,11,12]\n",
    "   ])\n",
    "d=a*b\n",
    "e=a*c\n"
   ]
  },
  {
   "cell_type": "code",
   "execution_count": 14,
   "id": "60686fcf",
   "metadata": {},
   "outputs": [
    {
     "data": {
      "text/plain": [
       "array([ 1,  2,  3,  4,  5,  6,  7,  8,  9, 10, 11, 12])"
      ]
     },
     "execution_count": 14,
     "metadata": {},
     "output_type": "execute_result"
    }
   ],
   "source": []
  },
  {
   "cell_type": "code",
   "execution_count": null,
   "id": "47aa5540",
   "metadata": {},
   "outputs": [],
   "source": []
  },
  {
   "cell_type": "code",
   "execution_count": null,
   "id": "1710e3fd",
   "metadata": {},
   "outputs": [],
   "source": []
  },
  {
   "cell_type": "code",
   "execution_count": null,
   "id": "5131361d",
   "metadata": {},
   "outputs": [],
   "source": []
  },
  {
   "cell_type": "code",
   "execution_count": null,
   "id": "9dea99ef",
   "metadata": {},
   "outputs": [],
   "source": []
  },
  {
   "cell_type": "code",
   "execution_count": null,
   "id": "2502bce8",
   "metadata": {},
   "outputs": [],
   "source": []
  },
  {
   "cell_type": "markdown",
   "id": "87c13049",
   "metadata": {},
   "source": [
    "# IF ELSE STATEMENT\n",
    "# WHILE LOOP\n",
    "# FOR LOOP \n",
    "# LIST COMPREHENSION\n",
    "# ANY ONE FUCNTION \n",
    "# ALL PYTHON BUILT IN DATA TYPES "
   ]
  },
  {
   "cell_type": "code",
   "execution_count": 16,
   "id": "7c34d021",
   "metadata": {},
   "outputs": [],
   "source": [
    "import numpy as np"
   ]
  },
  {
   "cell_type": "code",
   "execution_count": 26,
   "id": "a3ccbdb7",
   "metadata": {},
   "outputs": [],
   "source": [
    "rng=np.random.default_rng(42)\n"
   ]
  },
  {
   "cell_type": "code",
   "execution_count": 29,
   "id": "d8fb25d9",
   "metadata": {},
   "outputs": [],
   "source": [
    "array_2d=rng.integers(11,23,10).reshape(5,2)\n"
   ]
  },
  {
   "cell_type": "code",
   "execution_count": 32,
   "id": "0e3b3889",
   "metadata": {},
   "outputs": [],
   "source": [
    "array_1d=rng.integers(11,23,10)"
   ]
  },
  {
   "cell_type": "code",
   "execution_count": 33,
   "id": "6a58de8f",
   "metadata": {},
   "outputs": [
    {
     "name": "stdout",
     "output_type": "stream",
     "text": [
      "[[17 15]\n",
      " [13 22]\n",
      " [20 18]\n",
      " [15 20]\n",
      " [17 16]]\n"
     ]
    }
   ],
   "source": [
    "print(array_2d)"
   ]
  },
  {
   "cell_type": "code",
   "execution_count": 34,
   "id": "154ec9d8",
   "metadata": {},
   "outputs": [
    {
     "name": "stdout",
     "output_type": "stream",
     "text": [
      "[20 19 15 11 22 16 21 19 20 20]\n"
     ]
    }
   ],
   "source": [
    "print(array_1d)"
   ]
  },
  {
   "cell_type": "code",
   "execution_count": 48,
   "id": "5db928ee",
   "metadata": {},
   "outputs": [],
   "source": [
    "product_list=['fruit','vegetable','cereal','dairy',\"eggs\",\"snacks\",\"beverage\",\"coffee\",\"tea\",\"spices\"]"
   ]
  },
  {
   "cell_type": "code",
   "execution_count": 49,
   "id": "522df38f",
   "metadata": {},
   "outputs": [],
   "source": [
    "product_array=np.array(products)"
   ]
  },
  {
   "cell_type": "code",
   "execution_count": 46,
   "id": "651df64c",
   "metadata": {},
   "outputs": [
    {
     "data": {
      "text/plain": [
       "'vegetable'"
      ]
     },
     "execution_count": 46,
     "metadata": {},
     "output_type": "execute_result"
    }
   ],
   "source": [
    "product_array[1]"
   ]
  },
  {
   "cell_type": "code",
   "execution_count": 51,
   "id": "5fb903b7",
   "metadata": {},
   "outputs": [
    {
     "data": {
      "text/plain": [
       "'vegetable'"
      ]
     },
     "execution_count": 51,
     "metadata": {},
     "output_type": "execute_result"
    }
   ],
   "source": [
    "product_list[1]"
   ]
  },
  {
   "cell_type": "code",
   "execution_count": 52,
   "id": "c7ad54f5",
   "metadata": {},
   "outputs": [
    {
     "data": {
      "text/plain": [
       "['snacks', 'beverage', 'coffee', 'tea', 'spices']"
      ]
     },
     "execution_count": 52,
     "metadata": {},
     "output_type": "execute_result"
    }
   ],
   "source": [
    "product_list[5:]"
   ]
  },
  {
   "cell_type": "code",
   "execution_count": 54,
   "id": "ee282e01",
   "metadata": {},
   "outputs": [
    {
     "data": {
      "text/plain": [
       "array(['snacks', 'beverage', 'coffee', 'tea', 'spices'], dtype='<U9')"
      ]
     },
     "execution_count": 54,
     "metadata": {},
     "output_type": "execute_result"
    }
   ],
   "source": [
    "product_array[5:]"
   ]
  },
  {
   "cell_type": "code",
   "execution_count": 55,
   "id": "8dd5aa4c",
   "metadata": {},
   "outputs": [],
   "source": [
    "new_2darray=np.arange(11,23).reshape(3,4)\n"
   ]
  },
  {
   "cell_type": "code",
   "execution_count": 56,
   "id": "9dad5b9a",
   "metadata": {},
   "outputs": [
    {
     "data": {
      "text/plain": [
       "array([[11, 12, 13, 14],\n",
       "       [15, 16, 17, 18],\n",
       "       [19, 20, 21, 22]])"
      ]
     },
     "execution_count": 56,
     "metadata": {},
     "output_type": "execute_result"
    }
   ],
   "source": [
    "new_2darray"
   ]
  },
  {
   "cell_type": "code",
   "execution_count": 59,
   "id": "d781a6b7",
   "metadata": {},
   "outputs": [
    {
     "data": {
      "text/plain": [
       "array([[11],\n",
       "       [15],\n",
       "       [19]])"
      ]
     },
     "execution_count": 59,
     "metadata": {},
     "output_type": "execute_result"
    }
   ],
   "source": [
    "new_2darray[0:,0:1]"
   ]
  },
  {
   "cell_type": "code",
   "execution_count": 65,
   "id": "6d0e431b",
   "metadata": {},
   "outputs": [
    {
     "data": {
      "text/plain": [
       "array([[11, 12]])"
      ]
     },
     "execution_count": 65,
     "metadata": {},
     "output_type": "execute_result"
    }
   ],
   "source": [
    "new_2darray[0:1,0:2]"
   ]
  },
  {
   "cell_type": "code",
   "execution_count": 64,
   "id": "fbabed99",
   "metadata": {},
   "outputs": [
    {
     "data": {
      "text/plain": [
       "array([[11, 12],\n",
       "       [15, 16],\n",
       "       [19, 20]])"
      ]
     },
     "execution_count": 64,
     "metadata": {},
     "output_type": "execute_result"
    }
   ],
   "source": [
    "new_2darray[0:3,0:2]"
   ]
  },
  {
   "cell_type": "code",
   "execution_count": 66,
   "id": "d81dd78d",
   "metadata": {},
   "outputs": [
    {
     "data": {
      "text/plain": [
       "16"
      ]
     },
     "execution_count": 66,
     "metadata": {},
     "output_type": "execute_result"
    }
   ],
   "source": [
    "new_2darray[1,1]"
   ]
  },
  {
   "cell_type": "code",
   "execution_count": null,
   "id": "a4e0a23e",
   "metadata": {},
   "outputs": [],
   "source": []
  },
  {
   "cell_type": "code",
   "execution_count": null,
   "id": "09d6d335",
   "metadata": {},
   "outputs": [],
   "source": []
  },
  {
   "cell_type": "code",
   "execution_count": null,
   "id": "7d147b16",
   "metadata": {},
   "outputs": [],
   "source": []
  },
  {
   "cell_type": "code",
   "execution_count": null,
   "id": "745fd8d5",
   "metadata": {},
   "outputs": [],
   "source": []
  },
  {
   "cell_type": "code",
   "execution_count": 148,
   "id": "489d7546",
   "metadata": {},
   "outputs": [],
   "source": [
    "rng=np.random.default_rng(42)\n",
    "inventory=rng.integers(0,100,10)"
   ]
  },
  {
   "cell_type": "code",
   "execution_count": 90,
   "id": "6fcf6e66",
   "metadata": {},
   "outputs": [],
   "source": [
    "price=(rng.random(10)*10).round(2)\n",
    "new_price=(rng.random(11)*10).round(2)"
   ]
  },
  {
   "cell_type": "code",
   "execution_count": 84,
   "id": "a58beee4",
   "metadata": {},
   "outputs": [
    {
     "data": {
      "text/plain": [
       "array([ 8, 77, 65, 43, 43, 85,  8, 69, 20,  9])"
      ]
     },
     "execution_count": 84,
     "metadata": {},
     "output_type": "execute_result"
    }
   ],
   "source": [
    "inventory"
   ]
  },
  {
   "cell_type": "code",
   "execution_count": 89,
   "id": "c3b32420",
   "metadata": {},
   "outputs": [
    {
     "data": {
      "text/plain": [
       "array([ 181.6, 4273.5,  416. , 3560.4, 2717.6, 6443. ,  284. , 6699.9,\n",
       "       1786. ,  700.2])"
      ]
     },
     "execution_count": 89,
     "metadata": {},
     "output_type": "execute_result"
    }
   ],
   "source": [
    "inventory*10*price"
   ]
  },
  {
   "cell_type": "code",
   "execution_count": 149,
   "id": "129aa419",
   "metadata": {},
   "outputs": [
    {
     "data": {
      "text/plain": [
       "array([ 80, 770, 650, 430, 430, 850,  80, 690, 200,  90])"
      ]
     },
     "execution_count": 149,
     "metadata": {},
     "output_type": "execute_result"
    }
   ],
   "source": [
    "inventory*10"
   ]
  },
  {
   "cell_type": "code",
   "execution_count": 92,
   "id": "50b7402c",
   "metadata": {},
   "outputs": [
    {
     "data": {
      "text/plain": [
       "array([1.89, 1.3 , 4.76, 2.27, 6.7 , 4.37, 8.33, 7.  , 3.12, 8.32, 8.05])"
      ]
     },
     "execution_count": 92,
     "metadata": {},
     "output_type": "execute_result"
    }
   ],
   "source": [
    "new_price"
   ]
  },
  {
   "cell_type": "code",
   "execution_count": 93,
   "id": "b21ade0a",
   "metadata": {},
   "outputs": [
    {
     "data": {
      "text/plain": [
       "array([1.95, 4.67, 0.44, 1.54, 6.83, 7.45, 9.68, 3.26, 3.7 , 4.7 ])"
      ]
     },
     "execution_count": 93,
     "metadata": {},
     "output_type": "execute_result"
    }
   ],
   "source": [
    "price"
   ]
  },
  {
   "cell_type": "code",
   "execution_count": 153,
   "id": "9e06efcc",
   "metadata": {},
   "outputs": [],
   "source": [
    "a=np.array([\n",
    "  [1, 2, 3],\n",
    "  [4, 5, 6],\n",
    "  [7, 8, 9],\n",
    "  [10,11,12]\n",
    "   ])\n",
    "\n",
    "b=np.array([3, 4, 8])\n",
    "c=np.array([\n",
    "  [1, 2, 3],\n",
    "  [4, 5, 6],\n",
    "  [7, 8, 9],\n",
    "  [10,11,12]\n",
    "   ])\n",
    "d=a*b\n",
    "e=a*c\n"
   ]
  },
  {
   "cell_type": "code",
   "execution_count": 152,
   "id": "bb749976",
   "metadata": {},
   "outputs": [
    {
     "data": {
      "text/plain": [
       "array([[ 3,  8, 24],\n",
       "       [12, 20, 48],\n",
       "       [21, 32, 72],\n",
       "       [30, 44, 96]])"
      ]
     },
     "execution_count": 152,
     "metadata": {},
     "output_type": "execute_result"
    }
   ],
   "source": [
    "d"
   ]
  },
  {
   "cell_type": "code",
   "execution_count": 154,
   "id": "97acecad",
   "metadata": {},
   "outputs": [
    {
     "data": {
      "text/plain": [
       "array([[  1,   4,   9],\n",
       "       [ 16,  25,  36],\n",
       "       [ 49,  64,  81],\n",
       "       [100, 121, 144]])"
      ]
     },
     "execution_count": 154,
     "metadata": {},
     "output_type": "execute_result"
    }
   ],
   "source": [
    "e"
   ]
  },
  {
   "cell_type": "code",
   "execution_count": 96,
   "id": "25d78ffd",
   "metadata": {},
   "outputs": [
    {
     "name": "stdout",
     "output_type": "stream",
     "text": [
      "[ 0  1  2  3  4  5  6  7  8  9 10 11 12 13 14 15 16 17 18 19]\n"
     ]
    }
   ],
   "source": [
    "np_array=np.arange(20)\n",
    "print(np_array)"
   ]
  },
  {
   "cell_type": "code",
   "execution_count": 95,
   "id": "7374ea52",
   "metadata": {},
   "outputs": [
    {
     "data": {
      "text/plain": [
       "array([ 0,  2,  4,  6,  8, 10, 12, 14, 16, 18])"
      ]
     },
     "execution_count": 95,
     "metadata": {},
     "output_type": "execute_result"
    }
   ],
   "source": [
    "np_array[np_array%2==0]\n"
   ]
  },
  {
   "cell_type": "code",
   "execution_count": 97,
   "id": "7f746514",
   "metadata": {},
   "outputs": [],
   "source": [
    "x=rng.integers(0,100,10)\n"
   ]
  },
  {
   "cell_type": "code",
   "execution_count": 98,
   "id": "3d5c0d36",
   "metadata": {},
   "outputs": [
    {
     "data": {
      "text/plain": [
       "array([84, 38, 89, 28, 23, 68, 63, 13, 83, 19])"
      ]
     },
     "execution_count": 98,
     "metadata": {},
     "output_type": "execute_result"
    }
   ],
   "source": [
    "x"
   ]
  },
  {
   "cell_type": "code",
   "execution_count": 100,
   "id": "a0af8d05",
   "metadata": {},
   "outputs": [
    {
     "data": {
      "text/plain": [
       "array([84, 38, 28, 68, 63, 83])"
      ]
     },
     "execution_count": 100,
     "metadata": {},
     "output_type": "execute_result"
    }
   ],
   "source": [
    "x[(x>23) & (x<89)]"
   ]
  },
  {
   "cell_type": "code",
   "execution_count": 102,
   "id": "3d49d437",
   "metadata": {},
   "outputs": [],
   "source": [
    "inventory=[12,102,18,0,0]\n",
    "product=['fruit','vegetable','cereal'\n",
    "              ,'dairy','eggs']\n",
    "inventory_array=np.array(inventory)\n",
    "product_array=np.array(product)\n",
    "\n"
   ]
  },
  {
   "cell_type": "code",
   "execution_count": 104,
   "id": "522f62ba",
   "metadata": {},
   "outputs": [
    {
     "data": {
      "text/plain": [
       "array([ 12, 102,  18,   0,   0])"
      ]
     },
     "execution_count": 104,
     "metadata": {},
     "output_type": "execute_result"
    }
   ],
   "source": [
    "inventory_array"
   ]
  },
  {
   "cell_type": "code",
   "execution_count": 105,
   "id": "fcde14d1",
   "metadata": {},
   "outputs": [
    {
     "data": {
      "text/plain": [
       "array(['fruit', 'vegetable', 'cereal', 'dairy', 'eggs'], dtype='<U9')"
      ]
     },
     "execution_count": 105,
     "metadata": {},
     "output_type": "execute_result"
    }
   ],
   "source": [
    "product_array"
   ]
  },
  {
   "cell_type": "code",
   "execution_count": 103,
   "id": "679793a4",
   "metadata": {},
   "outputs": [
    {
     "data": {
      "text/plain": [
       "array(['fruit', 'vegetable', 'cereal'], dtype='<U9')"
      ]
     },
     "execution_count": 103,
     "metadata": {},
     "output_type": "execute_result"
    }
   ],
   "source": [
    "product_array[inventory_array>0]"
   ]
  },
  {
   "cell_type": "code",
   "execution_count": 111,
   "id": "0e075de3",
   "metadata": {},
   "outputs": [
    {
     "data": {
      "text/plain": [
       "array(['In Stock', 'In Stock', 'In Stock', 'Out of Stock', 'Out of Stock'],\n",
       "      dtype='<U12')"
      ]
     },
     "execution_count": 111,
     "metadata": {},
     "output_type": "execute_result"
    }
   ],
   "source": [
    "np.where(inventory_array<=0,\"Out of Stock\", \"In Stock\")"
   ]
  },
  {
   "cell_type": "code",
   "execution_count": 113,
   "id": "3972896d",
   "metadata": {},
   "outputs": [
    {
     "data": {
      "text/plain": [
       "array([ 12, 102,  18,   0,   0])"
      ]
     },
     "execution_count": 113,
     "metadata": {},
     "output_type": "execute_result"
    }
   ],
   "source": [
    "inventory_array"
   ]
  },
  {
   "cell_type": "code",
   "execution_count": 114,
   "id": "6f6e7690",
   "metadata": {},
   "outputs": [
    {
     "data": {
      "text/plain": [
       "array(['fruit', 'vegetable', 'cereal', 'dairy', 'eggs'], dtype='<U9')"
      ]
     },
     "execution_count": 114,
     "metadata": {},
     "output_type": "execute_result"
    }
   ],
   "source": [
    "product_array"
   ]
  },
  {
   "cell_type": "code",
   "execution_count": 115,
   "id": "c454a199",
   "metadata": {},
   "outputs": [
    {
     "data": {
      "text/plain": [
       "array(['perfectly stock', 'too many stock', 'perfectly stock',\n",
       "       'Out of Stock', 'Out of Stock'], dtype='<U15')"
      ]
     },
     "execution_count": 115,
     "metadata": {},
     "output_type": "execute_result"
    }
   ],
   "source": [
    "np.where(inventory_array<=0,\"Out of Stock\",np.where(inventory_array>=102, \"too many stock\", \"perfectly stock\"))"
   ]
  },
  {
   "cell_type": "code",
   "execution_count": 116,
   "id": "30ce0e87",
   "metadata": {},
   "outputs": [],
   "source": [
    "sales_array=rng.integers(0,100,10).reshape(2,5)\n"
   ]
  },
  {
   "cell_type": "code",
   "execution_count": 120,
   "id": "1a7c411b",
   "metadata": {},
   "outputs": [
    {
     "data": {
      "text/plain": [
       "array([[80,  0, 79, 78, 78],\n",
       "       [66, 47, 70, 27, 78]])"
      ]
     },
     "execution_count": 120,
     "metadata": {},
     "output_type": "execute_result"
    }
   ],
   "source": [
    "sales_array"
   ]
  },
  {
   "cell_type": "code",
   "execution_count": 125,
   "id": "3f0adba9",
   "metadata": {},
   "outputs": [
    {
     "data": {
      "text/plain": [
       "603"
      ]
     },
     "execution_count": 125,
     "metadata": {},
     "output_type": "execute_result"
    }
   ],
   "source": [
    "sales_array.sum()"
   ]
  },
  {
   "cell_type": "code",
   "execution_count": 121,
   "id": "57dfac3b",
   "metadata": {},
   "outputs": [
    {
     "data": {
      "text/plain": [
       "60.3"
      ]
     },
     "execution_count": 121,
     "metadata": {},
     "output_type": "execute_result"
    }
   ],
   "source": [
    "sales_array.mean()"
   ]
  },
  {
   "cell_type": "code",
   "execution_count": 122,
   "id": "dc851c2b",
   "metadata": {},
   "outputs": [
    {
     "data": {
      "text/plain": [
       "80"
      ]
     },
     "execution_count": 122,
     "metadata": {},
     "output_type": "execute_result"
    }
   ],
   "source": [
    "sales_array.max()"
   ]
  },
  {
   "cell_type": "code",
   "execution_count": 123,
   "id": "d2c6f174",
   "metadata": {},
   "outputs": [
    {
     "data": {
      "text/plain": [
       "0"
      ]
     },
     "execution_count": 123,
     "metadata": {},
     "output_type": "execute_result"
    }
   ],
   "source": [
    "sales_array.min()"
   ]
  },
  {
   "cell_type": "code",
   "execution_count": 133,
   "id": "aaeaf616",
   "metadata": {},
   "outputs": [],
   "source": [
    "sales_array=rng.integers(0,100,10).reshape(2,5)"
   ]
  },
  {
   "cell_type": "code",
   "execution_count": 127,
   "id": "1082b3ab",
   "metadata": {},
   "outputs": [
    {
     "data": {
      "text/plain": [
       "array([315, 288])"
      ]
     },
     "execution_count": 127,
     "metadata": {},
     "output_type": "execute_result"
    }
   ],
   "source": [
    "sales_array.sum(axis=1)"
   ]
  },
  {
   "cell_type": "code",
   "execution_count": 128,
   "id": "06912a90",
   "metadata": {},
   "outputs": [
    {
     "data": {
      "text/plain": [
       "array([146,  47, 149, 105, 156])"
      ]
     },
     "execution_count": 128,
     "metadata": {},
     "output_type": "execute_result"
    }
   ],
   "source": [
    "sales_array.sum(axis=0)"
   ]
  },
  {
   "cell_type": "code",
   "execution_count": 129,
   "id": "714ddcad",
   "metadata": {},
   "outputs": [
    {
     "data": {
      "text/plain": [
       "array([[80,  0, 79, 78, 78],\n",
       "       [66, 47, 70, 27, 78]])"
      ]
     },
     "execution_count": 129,
     "metadata": {},
     "output_type": "execute_result"
    }
   ],
   "source": [
    "sales_array"
   ]
  },
  {
   "cell_type": "code",
   "execution_count": 131,
   "id": "d3de1dd9",
   "metadata": {},
   "outputs": [
    {
     "data": {
      "text/plain": [
       "array([ 0, 27])"
      ]
     },
     "execution_count": 131,
     "metadata": {},
     "output_type": "execute_result"
    }
   ],
   "source": [
    "sales_array.min(axis=1)"
   ]
  },
  {
   "cell_type": "code",
   "execution_count": 132,
   "id": "dfd8cc67",
   "metadata": {},
   "outputs": [
    {
     "data": {
      "text/plain": [
       "array([66,  0, 70, 27, 78])"
      ]
     },
     "execution_count": 132,
     "metadata": {},
     "output_type": "execute_result"
    }
   ],
   "source": [
    "sales_array.min(axis=0)"
   ]
  },
  {
   "cell_type": "code",
   "execution_count": 134,
   "id": "f6090b20",
   "metadata": {},
   "outputs": [
    {
     "data": {
      "text/plain": [
       "array([[7.41619849, 6.70820393, 7.07106781, 7.48331477, 1.73205081],\n",
       "       [3.60555128, 4.89897949, 3.31662479, 6.55743852, 8.1240384 ]])"
      ]
     },
     "execution_count": 134,
     "metadata": {},
     "output_type": "execute_result"
    }
   ],
   "source": [
    "np.sqrt(sales_array)"
   ]
  },
  {
   "cell_type": "code",
   "execution_count": 135,
   "id": "46b6285b",
   "metadata": {},
   "outputs": [
    {
     "data": {
      "text/plain": [
       "36.6"
      ]
     },
     "execution_count": 135,
     "metadata": {},
     "output_type": "execute_result"
    }
   ],
   "source": [
    "np.mean(sales_array)"
   ]
  },
  {
   "cell_type": "code",
   "execution_count": 136,
   "id": "43e64caa",
   "metadata": {},
   "outputs": [
    {
     "data": {
      "text/plain": [
       "array([[55, 45, 50, 56,  3],\n",
       "       [13, 24, 11, 43, 66]])"
      ]
     },
     "execution_count": 136,
     "metadata": {},
     "output_type": "execute_result"
    }
   ],
   "source": [
    "sales_array"
   ]
  },
  {
   "cell_type": "code",
   "execution_count": 137,
   "id": "8cafe558",
   "metadata": {},
   "outputs": [],
   "source": [
    "sales_array.sort()"
   ]
  },
  {
   "cell_type": "code",
   "execution_count": 138,
   "id": "fd941c1d",
   "metadata": {},
   "outputs": [
    {
     "data": {
      "text/plain": [
       "array([[ 3, 45, 50, 55, 56],\n",
       "       [11, 13, 24, 43, 66]])"
      ]
     },
     "execution_count": 138,
     "metadata": {},
     "output_type": "execute_result"
    }
   ],
   "source": [
    "sales_array"
   ]
  },
  {
   "cell_type": "code",
   "execution_count": 141,
   "id": "0cbacbfb",
   "metadata": {},
   "outputs": [],
   "source": [
    "sales_array.sort(axis=0)"
   ]
  },
  {
   "cell_type": "code",
   "execution_count": 140,
   "id": "f51361f6",
   "metadata": {},
   "outputs": [
    {
     "data": {
      "text/plain": [
       "array([[ 3, 45, 50, 55, 56],\n",
       "       [11, 13, 24, 43, 66]])"
      ]
     },
     "execution_count": 140,
     "metadata": {},
     "output_type": "execute_result"
    }
   ],
   "source": [
    "sales_array"
   ]
  },
  {
   "cell_type": "code",
   "execution_count": 142,
   "id": "c7934ba3",
   "metadata": {},
   "outputs": [
    {
     "data": {
      "text/plain": [
       "array([[ 3, 13, 24, 43, 56],\n",
       "       [11, 45, 50, 55, 66]])"
      ]
     },
     "execution_count": 142,
     "metadata": {},
     "output_type": "execute_result"
    }
   ],
   "source": [
    "sales_array"
   ]
  },
  {
   "cell_type": "code",
   "execution_count": 145,
   "id": "105a858a",
   "metadata": {},
   "outputs": [],
   "source": [
    "lst=[1,2,3,4]\n",
    "S=np.array([1,2,3,4])\n",
    "S[0:2]=99\n",
    "#S[3]=99\n"
   ]
  },
  {
   "cell_type": "code",
   "execution_count": 146,
   "id": "cee4b10e",
   "metadata": {},
   "outputs": [
    {
     "data": {
      "text/plain": [
       "array([99, 99,  3,  4])"
      ]
     },
     "execution_count": 146,
     "metadata": {},
     "output_type": "execute_result"
    }
   ],
   "source": [
    "S"
   ]
  },
  {
   "cell_type": "code",
   "execution_count": null,
   "id": "efa0010e",
   "metadata": {},
   "outputs": [],
   "source": []
  }
 ],
 "metadata": {
  "kernelspec": {
   "display_name": "Python 3 (ipykernel)",
   "language": "python",
   "name": "python3"
  },
  "language_info": {
   "codemirror_mode": {
    "name": "ipython",
    "version": 3
   },
   "file_extension": ".py",
   "mimetype": "text/x-python",
   "name": "python",
   "nbconvert_exporter": "python",
   "pygments_lexer": "ipython3",
   "version": "3.11.3"
  }
 },
 "nbformat": 4,
 "nbformat_minor": 5
}
