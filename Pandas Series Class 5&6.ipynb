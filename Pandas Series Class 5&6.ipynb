{
 "cells": [
  {
   "cell_type": "markdown",
   "id": "3764eeee",
   "metadata": {},
   "source": [
    "# Pyhton Class"
   ]
  },
  {
   "cell_type": "code",
   "execution_count": 63,
   "id": "fd52231a",
   "metadata": {},
   "outputs": [],
   "source": [
    "import numpy as np"
   ]
  },
  {
   "cell_type": "code",
   "execution_count": 69,
   "id": "ea29504a",
   "metadata": {},
   "outputs": [
    {
     "data": {
      "text/plain": [
       "array([ 0,  5, 10, 15])"
      ]
     },
     "execution_count": 69,
     "metadata": {},
     "output_type": "execute_result"
    }
   ],
   "source": [
    "np.arange(0,20,5)"
   ]
  },
  {
   "cell_type": "code",
   "execution_count": 70,
   "id": "e7fa9976",
   "metadata": {},
   "outputs": [
    {
     "data": {
      "text/plain": [
       "array([ 0.,  5., 10., 15., 20.])"
      ]
     },
     "execution_count": 70,
     "metadata": {},
     "output_type": "execute_result"
    }
   ],
   "source": [
    "np.linspace(0,20,5)"
   ]
  },
  {
   "cell_type": "code",
   "execution_count": 81,
   "id": "397b91e6",
   "metadata": {},
   "outputs": [
    {
     "data": {
      "text/plain": [
       "9"
      ]
     },
     "execution_count": 81,
     "metadata": {},
     "output_type": "execute_result"
    }
   ],
   "source": [
    "np.random.randint(0,37)"
   ]
  },
  {
   "cell_type": "code",
   "execution_count": null,
   "id": "eb913667",
   "metadata": {},
   "outputs": [],
   "source": [
    "pip install pandas"
   ]
  },
  {
   "cell_type": "code",
   "execution_count": 82,
   "id": "16f0105d",
   "metadata": {},
   "outputs": [],
   "source": [
    "import pandas as pd"
   ]
  },
  {
   "cell_type": "code",
   "execution_count": 85,
   "id": "13f4a131",
   "metadata": {},
   "outputs": [
    {
     "data": {
      "text/plain": [
       "index1    1\n",
       "index2    2\n",
       "label3    3\n",
       "dtype: int64"
      ]
     },
     "execution_count": 85,
     "metadata": {},
     "output_type": "execute_result"
    }
   ],
   "source": [
    "pd.Series([1,2,3])\n",
    "pd.Series([1,2,3], index=(\"index1\", \"index2\",\"label3\"))\n"
   ]
  },
  {
   "cell_type": "code",
   "execution_count": 92,
   "id": "6babc146",
   "metadata": {},
   "outputs": [
    {
     "data": {
      "text/plain": [
       "0    0\n",
       "1    1\n",
       "2    2\n",
       "3    3\n",
       "4    4\n",
       "Name: Test Array, dtype: int64"
      ]
     },
     "execution_count": 92,
     "metadata": {},
     "output_type": "execute_result"
    }
   ],
   "source": [
    "array=np.arange(5)\n",
    "pandas_series=pd.Series(array)\n",
    "pd.Series(np.arange(5),name=\"Test Array\",index=())"
   ]
  },
  {
   "cell_type": "code",
   "execution_count": 93,
   "id": "58b55876",
   "metadata": {},
   "outputs": [],
   "source": [
    "Sales=[0,5,155,0,518,0,1827,616,317,325]\n",
    "Sales_series=pd.Series(Sales, name=\"Sales\")"
   ]
  },
  {
   "cell_type": "code",
   "execution_count": 95,
   "id": "098289de",
   "metadata": {},
   "outputs": [
    {
     "data": {
      "text/plain": [
       "RangeIndex(start=0, stop=10, step=1)"
      ]
     },
     "execution_count": 95,
     "metadata": {},
     "output_type": "execute_result"
    }
   ],
   "source": [
    "Sales_series.index"
   ]
  },
  {
   "cell_type": "code",
   "execution_count": 122,
   "id": "0aaf561f",
   "metadata": {},
   "outputs": [],
   "source": [
    "sales=[0,5,155,0,518,0,1287,616,317,325]\n",
    "month=[\"jan\",\"feb\",\"march\",\"april\",\"may\",\"june\",'july',\"august\",\"september\",\"october\"]\n"
   ]
  },
  {
   "cell_type": "code",
   "execution_count": 123,
   "id": "6b1c2ab3",
   "metadata": {},
   "outputs": [],
   "source": [
    "sales_month=pd.Series(sales,index=month,name=\"Sales\")\n"
   ]
  },
  {
   "cell_type": "code",
   "execution_count": 132,
   "id": "0ebc3ab0",
   "metadata": {},
   "outputs": [
    {
     "data": {
      "text/plain": [
       "jan            0\n",
       "march        155\n",
       "september    317\n",
       "Name: Sales, dtype: int64"
      ]
     },
     "execution_count": 132,
     "metadata": {},
     "output_type": "execute_result"
    }
   ],
   "source": [
    "sales_month[sales_month.index.isin([\"jan\",\"september\",\"march\"])]"
   ]
  },
  {
   "cell_type": "code",
   "execution_count": 131,
   "id": "381ca5e3",
   "metadata": {},
   "outputs": [
    {
     "data": {
      "text/plain": [
       "feb           5\n",
       "april         0\n",
       "may         518\n",
       "june          0\n",
       "july       1287\n",
       "august      616\n",
       "october     325\n",
       "Name: Sales, dtype: int64"
      ]
     },
     "execution_count": 131,
     "metadata": {},
     "output_type": "execute_result"
    }
   ],
   "source": [
    "sales_month[~sales_month.index.isin([\"jan\",\"september\",\"march\"])]"
   ]
  },
  {
   "cell_type": "code",
   "execution_count": 133,
   "id": "2a37254c",
   "metadata": {},
   "outputs": [
    {
     "data": {
      "text/plain": [
       "jan             0\n",
       "feb             5\n",
       "march         155\n",
       "april           0\n",
       "may           518\n",
       "june            0\n",
       "july         1287\n",
       "august        616\n",
       "september     317\n",
       "october       325\n",
       "Name: Sales, dtype: int64"
      ]
     },
     "execution_count": 133,
     "metadata": {},
     "output_type": "execute_result"
    }
   ],
   "source": [
    "sales_month"
   ]
  },
  {
   "cell_type": "code",
   "execution_count": 136,
   "id": "5e1bd1d0",
   "metadata": {},
   "outputs": [
    {
     "data": {
      "text/plain": [
       "jan             0\n",
       "april           0\n",
       "june            0\n",
       "feb             5\n",
       "march         155\n",
       "september     317\n",
       "october       325\n",
       "may           518\n",
       "august        616\n",
       "july         1287\n",
       "Name: Sales, dtype: int64"
      ]
     },
     "execution_count": 136,
     "metadata": {},
     "output_type": "execute_result"
    }
   ],
   "source": [
    "sales_month.sort_values()"
   ]
  },
  {
   "cell_type": "code",
   "execution_count": 137,
   "id": "50cd1073",
   "metadata": {},
   "outputs": [
    {
     "data": {
      "text/plain": [
       "july         1287\n",
       "august        616\n",
       "may           518\n",
       "october       325\n",
       "september     317\n",
       "march         155\n",
       "feb             5\n",
       "jan             0\n",
       "april           0\n",
       "june            0\n",
       "Name: Sales, dtype: int64"
      ]
     },
     "execution_count": 137,
     "metadata": {},
     "output_type": "execute_result"
    }
   ],
   "source": [
    "sales_month.sort_values(ascending=False)"
   ]
  },
  {
   "cell_type": "code",
   "execution_count": 139,
   "id": "10b9893e",
   "metadata": {},
   "outputs": [
    {
     "data": {
      "text/plain": [
       "april           0\n",
       "august        616\n",
       "feb             5\n",
       "jan             0\n",
       "july         1287\n",
       "june            0\n",
       "march         155\n",
       "may           518\n",
       "october       325\n",
       "september     317\n",
       "Name: Sales, dtype: int64"
      ]
     },
     "execution_count": 139,
     "metadata": {},
     "output_type": "execute_result"
    }
   ],
   "source": [
    "sales_month.sort_index()"
   ]
  },
  {
   "cell_type": "code",
   "execution_count": 140,
   "id": "1860a97f",
   "metadata": {},
   "outputs": [
    {
     "data": {
      "text/plain": [
       "september     317\n",
       "october       325\n",
       "may           518\n",
       "march         155\n",
       "june            0\n",
       "july         1287\n",
       "jan             0\n",
       "feb             5\n",
       "august        616\n",
       "april           0\n",
       "Name: Sales, dtype: int64"
      ]
     },
     "execution_count": 140,
     "metadata": {},
     "output_type": "execute_result"
    }
   ],
   "source": [
    "sales_month.sort_index(ascending=False)"
   ]
  },
  {
   "cell_type": "code",
   "execution_count": 104,
   "id": "561ff2ee",
   "metadata": {},
   "outputs": [
    {
     "data": {
      "text/plain": [
       "march         155\n",
       "april           0\n",
       "may           518\n",
       "june            0\n",
       "july         1287\n",
       "august        616\n",
       "september     317\n",
       "Name: Sales, dtype: int64"
      ]
     },
     "execution_count": 104,
     "metadata": {},
     "output_type": "execute_result"
    }
   ],
   "source": [
    "sales_month[\"march\":\"september\"]"
   ]
  },
  {
   "cell_type": "code",
   "execution_count": 106,
   "id": "904c0a03",
   "metadata": {},
   "outputs": [
    {
     "data": {
      "text/plain": [
       "march         155\n",
       "april           0\n",
       "may           518\n",
       "june            0\n",
       "july         1287\n",
       "august        616\n",
       "september     317\n",
       "october       325\n",
       "Name: Sales, dtype: int64"
      ]
     },
     "execution_count": 106,
     "metadata": {},
     "output_type": "execute_result"
    }
   ],
   "source": [
    "sales_month[2:10]"
   ]
  },
  {
   "cell_type": "code",
   "execution_count": 114,
   "id": "06618930",
   "metadata": {},
   "outputs": [
    {
     "data": {
      "text/plain": [
       "0"
      ]
     },
     "execution_count": 114,
     "metadata": {},
     "output_type": "execute_result"
    }
   ],
   "source": [
    "sales_month.loc[\"jan\"]"
   ]
  },
  {
   "cell_type": "code",
   "execution_count": 115,
   "id": "f3a7e8fb",
   "metadata": {},
   "outputs": [
    {
     "data": {
      "text/plain": [
       "0"
      ]
     },
     "execution_count": 115,
     "metadata": {},
     "output_type": "execute_result"
    }
   ],
   "source": [
    "sales_month.iloc[0]"
   ]
  },
  {
   "cell_type": "code",
   "execution_count": 108,
   "id": "ea39855b",
   "metadata": {},
   "outputs": [
    {
     "data": {
      "text/plain": [
       "jan             0\n",
       "feb             5\n",
       "march         155\n",
       "april           0\n",
       "may           518\n",
       "june            0\n",
       "july         1287\n",
       "august        616\n",
       "september     317\n",
       "Name: Sales, dtype: int64"
      ]
     },
     "execution_count": 108,
     "metadata": {},
     "output_type": "execute_result"
    }
   ],
   "source": [
    "sales_month.loc[\"jan\":\"september\"]"
   ]
  },
  {
   "cell_type": "code",
   "execution_count": 109,
   "id": "815e8f9d",
   "metadata": {},
   "outputs": [
    {
     "data": {
      "text/plain": [
       "feb          5\n",
       "march      155\n",
       "april        0\n",
       "may        518\n",
       "june         0\n",
       "july      1287\n",
       "august     616\n",
       "Name: Sales, dtype: int64"
      ]
     },
     "execution_count": 109,
     "metadata": {},
     "output_type": "execute_result"
    }
   ],
   "source": [
    "sales_month.loc[\"feb\":\"august\"]"
   ]
  },
  {
   "cell_type": "code",
   "execution_count": 110,
   "id": "de4b89aa",
   "metadata": {},
   "outputs": [
    {
     "data": {
      "text/plain": [
       "index    jan\n",
       "Sales      0\n",
       "Name: 0, dtype: object"
      ]
     },
     "execution_count": 110,
     "metadata": {},
     "output_type": "execute_result"
    }
   ],
   "source": [
    "sales_month.reset_index().loc[0]"
   ]
  },
  {
   "cell_type": "code",
   "execution_count": 120,
   "id": "96558b99",
   "metadata": {},
   "outputs": [
    {
     "data": {
      "text/html": [
       "<div>\n",
       "<style scoped>\n",
       "    .dataframe tbody tr th:only-of-type {\n",
       "        vertical-align: middle;\n",
       "    }\n",
       "\n",
       "    .dataframe tbody tr th {\n",
       "        vertical-align: top;\n",
       "    }\n",
       "\n",
       "    .dataframe thead th {\n",
       "        text-align: right;\n",
       "    }\n",
       "</style>\n",
       "<table border=\"1\" class=\"dataframe\">\n",
       "  <thead>\n",
       "    <tr style=\"text-align: right;\">\n",
       "      <th></th>\n",
       "      <th>index</th>\n",
       "      <th>Sales</th>\n",
       "    </tr>\n",
       "  </thead>\n",
       "  <tbody>\n",
       "    <tr>\n",
       "      <th>0</th>\n",
       "      <td>jan</td>\n",
       "      <td>0</td>\n",
       "    </tr>\n",
       "    <tr>\n",
       "      <th>1</th>\n",
       "      <td>feb</td>\n",
       "      <td>5</td>\n",
       "    </tr>\n",
       "    <tr>\n",
       "      <th>2</th>\n",
       "      <td>march</td>\n",
       "      <td>155</td>\n",
       "    </tr>\n",
       "    <tr>\n",
       "      <th>3</th>\n",
       "      <td>april</td>\n",
       "      <td>0</td>\n",
       "    </tr>\n",
       "    <tr>\n",
       "      <th>4</th>\n",
       "      <td>may</td>\n",
       "      <td>518</td>\n",
       "    </tr>\n",
       "    <tr>\n",
       "      <th>5</th>\n",
       "      <td>june</td>\n",
       "      <td>0</td>\n",
       "    </tr>\n",
       "    <tr>\n",
       "      <th>6</th>\n",
       "      <td>july</td>\n",
       "      <td>1287</td>\n",
       "    </tr>\n",
       "    <tr>\n",
       "      <th>7</th>\n",
       "      <td>august</td>\n",
       "      <td>616</td>\n",
       "    </tr>\n",
       "    <tr>\n",
       "      <th>8</th>\n",
       "      <td>september</td>\n",
       "      <td>317</td>\n",
       "    </tr>\n",
       "    <tr>\n",
       "      <th>9</th>\n",
       "      <td>october</td>\n",
       "      <td>325</td>\n",
       "    </tr>\n",
       "  </tbody>\n",
       "</table>\n",
       "</div>"
      ],
      "text/plain": [
       "       index  Sales\n",
       "0        jan      0\n",
       "1        feb      5\n",
       "2      march    155\n",
       "3      april      0\n",
       "4        may    518\n",
       "5       june      0\n",
       "6       july   1287\n",
       "7     august    616\n",
       "8  september    317\n",
       "9    october    325"
      ]
     },
     "execution_count": 120,
     "metadata": {},
     "output_type": "execute_result"
    }
   ],
   "source": [
    "sales_month.reset_index()"
   ]
  },
  {
   "cell_type": "code",
   "execution_count": 121,
   "id": "49882291",
   "metadata": {},
   "outputs": [
    {
     "data": {
      "text/plain": [
       "0       0\n",
       "1       5\n",
       "2     155\n",
       "3       0\n",
       "4     518\n",
       "5       0\n",
       "6    1287\n",
       "7     616\n",
       "8     317\n",
       "9     325\n",
       "Name: Sales, dtype: int64"
      ]
     },
     "execution_count": 121,
     "metadata": {},
     "output_type": "execute_result"
    }
   ],
   "source": [
    "sales_month.reset_index(drop=True)"
   ]
  },
  {
   "cell_type": "code",
   "execution_count": 145,
   "id": "8125cd10",
   "metadata": {},
   "outputs": [
    {
     "data": {
      "text/plain": [
       "jan             0\n",
       "feb            10\n",
       "march         310\n",
       "april           0\n",
       "may          1036\n",
       "june            0\n",
       "july         2574\n",
       "august       1232\n",
       "september     634\n",
       "october       650\n",
       "Name: Sales, dtype: int64"
      ]
     },
     "execution_count": 145,
     "metadata": {},
     "output_type": "execute_result"
    }
   ],
   "source": [
    "sales_month*2"
   ]
  },
  {
   "cell_type": "code",
   "execution_count": 144,
   "id": "827ac95a",
   "metadata": {},
   "outputs": [
    {
     "data": {
      "text/plain": [
       "jan             2\n",
       "feb             7\n",
       "march         157\n",
       "april           2\n",
       "may           520\n",
       "june            2\n",
       "july         1289\n",
       "august        618\n",
       "september     319\n",
       "october       327\n",
       "Name: Sales, dtype: int64"
      ]
     },
     "execution_count": 144,
     "metadata": {},
     "output_type": "execute_result"
    }
   ],
   "source": [
    "sales_month+2"
   ]
  },
  {
   "cell_type": "code",
   "execution_count": 143,
   "id": "e2f7a290",
   "metadata": {},
   "outputs": [
    {
     "data": {
      "text/plain": [
       "jan             $0.0\n",
       "feb             $5.0\n",
       "march         $155.0\n",
       "april           $0.0\n",
       "may           $518.0\n",
       "june            $0.0\n",
       "july         $1287.0\n",
       "august        $616.0\n",
       "september     $317.0\n",
       "october       $325.0\n",
       "Name: Sales, dtype: string"
      ]
     },
     "execution_count": 143,
     "metadata": {},
     "output_type": "execute_result"
    }
   ],
   "source": [
    "\"$\"+ sales_month.astype(\"float\").astype(\"string\")"
   ]
  },
  {
   "cell_type": "code",
   "execution_count": 168,
   "id": "4a78f847",
   "metadata": {},
   "outputs": [],
   "source": [
    "string_series=pd.Series([\"Day!1\",\"day!2\",\"Day!3\",\"DAY!4\"])\n"
   ]
  },
  {
   "cell_type": "code",
   "execution_count": 169,
   "id": "ae6fe400",
   "metadata": {},
   "outputs": [
    {
     "data": {
      "text/plain": [
       "0    Day!1\n",
       "1    day!2\n",
       "2    Day!3\n",
       "3    DAY!4\n",
       "dtype: object"
      ]
     },
     "execution_count": 169,
     "metadata": {},
     "output_type": "execute_result"
    }
   ],
   "source": [
    "string_series"
   ]
  },
  {
   "cell_type": "code",
   "execution_count": 171,
   "id": "9ba25a00",
   "metadata": {},
   "outputs": [
    {
     "data": {
      "text/html": [
       "<div>\n",
       "<style scoped>\n",
       "    .dataframe tbody tr th:only-of-type {\n",
       "        vertical-align: middle;\n",
       "    }\n",
       "\n",
       "    .dataframe tbody tr th {\n",
       "        vertical-align: top;\n",
       "    }\n",
       "\n",
       "    .dataframe thead th {\n",
       "        text-align: right;\n",
       "    }\n",
       "</style>\n",
       "<table border=\"1\" class=\"dataframe\">\n",
       "  <thead>\n",
       "    <tr style=\"text-align: right;\">\n",
       "      <th></th>\n",
       "      <th>0</th>\n",
       "      <th>1</th>\n",
       "    </tr>\n",
       "  </thead>\n",
       "  <tbody>\n",
       "    <tr>\n",
       "      <th>0</th>\n",
       "      <td>Day</td>\n",
       "      <td>1</td>\n",
       "    </tr>\n",
       "    <tr>\n",
       "      <th>1</th>\n",
       "      <td>day</td>\n",
       "      <td>2</td>\n",
       "    </tr>\n",
       "    <tr>\n",
       "      <th>2</th>\n",
       "      <td>Day</td>\n",
       "      <td>3</td>\n",
       "    </tr>\n",
       "    <tr>\n",
       "      <th>3</th>\n",
       "      <td>DAY</td>\n",
       "      <td>4</td>\n",
       "    </tr>\n",
       "  </tbody>\n",
       "</table>\n",
       "</div>"
      ],
      "text/plain": [
       "     0  1\n",
       "0  Day  1\n",
       "1  day  2\n",
       "2  Day  3\n",
       "3  DAY  4"
      ]
     },
     "execution_count": 171,
     "metadata": {},
     "output_type": "execute_result"
    }
   ],
   "source": [
    "string_series.str.split(\"!\", expand=True)"
   ]
  },
  {
   "cell_type": "code",
   "execution_count": 185,
   "id": "ff619b75",
   "metadata": {},
   "outputs": [],
   "source": [
    "Sales=[0,5,155,np.nan,np.nan]\n",
    "sales_series=pd.Series(Sales,name=\"sales\")\n"
   ]
  },
  {
   "cell_type": "code",
   "execution_count": 184,
   "id": "24ac4530",
   "metadata": {},
   "outputs": [
    {
     "data": {
      "text/plain": [
       "1"
      ]
     },
     "execution_count": 184,
     "metadata": {},
     "output_type": "execute_result"
    }
   ],
   "source": [
    "sales_series.isna().sum() #gives you na values"
   ]
  },
  {
   "cell_type": "code",
   "execution_count": 186,
   "id": "f8f6366c",
   "metadata": {},
   "outputs": [
    {
     "data": {
      "text/plain": [
       "2"
      ]
     },
     "execution_count": 186,
     "metadata": {},
     "output_type": "execute_result"
    }
   ],
   "source": [
    "sales_series.isna().sum()"
   ]
  },
  {
   "cell_type": "code",
   "execution_count": 211,
   "id": "92337bde",
   "metadata": {},
   "outputs": [],
   "source": [
    "clean_wholesale=pd.Series([3.99,5.99,22.99,7.99,33.99])\n"
   ]
  },
  {
   "cell_type": "code",
   "execution_count": null,
   "id": "648e05a9",
   "metadata": {},
   "outputs": [],
   "source": []
  },
  {
   "cell_type": "code",
   "execution_count": null,
   "id": "aa397f07",
   "metadata": {},
   "outputs": [],
   "source": []
  },
  {
   "cell_type": "code",
   "execution_count": null,
   "id": "c5e05468",
   "metadata": {},
   "outputs": [],
   "source": []
  },
  {
   "cell_type": "markdown",
   "id": "1c628db3",
   "metadata": {},
   "source": [
    "# "
   ]
  }
 ],
 "metadata": {
  "kernelspec": {
   "display_name": "Python 3 (ipykernel)",
   "language": "python",
   "name": "python3"
  },
  "language_info": {
   "codemirror_mode": {
    "name": "ipython",
    "version": 3
   },
   "file_extension": ".py",
   "mimetype": "text/x-python",
   "name": "python",
   "nbconvert_exporter": "python",
   "pygments_lexer": "ipython3",
   "version": "3.11.3"
  }
 },
 "nbformat": 4,
 "nbformat_minor": 5
}
